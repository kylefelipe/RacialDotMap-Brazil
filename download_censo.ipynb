{
 "cells": [
  {
   "cell_type": "markdown",
   "metadata": {},
   "source": [
    "# Download censo\n",
    "\n",
    "Este notebook é utilizado para baixar os dados do censo de 2010 e 2022\n"
   ]
  },
  {
   "cell_type": "code",
   "execution_count": 1,
   "metadata": {},
   "outputs": [],
   "source": [
    "# Importando Bibliotecas necessárias\n",
    "from zipfile import ZipFile\n",
    "from os import makedirs, path\n",
    "from ftplib import FTP\n",
    "import re\n",
    "from tqdm import tqdm"
   ]
  },
  {
   "cell_type": "markdown",
   "metadata": {},
   "source": [
    "Aqui nessa célula é necessário informar qual o ano será feito o download dos dados alterando a variável `ano`"
   ]
  },
  {
   "cell_type": "code",
   "execution_count": 2,
   "metadata": {},
   "outputs": [],
   "source": [
    "ano = 2010\n",
    "base_path = \"./COR_RACA\"\n",
    "\n",
    "# Dados de conexão com o FTP\n",
    "\n",
    "ftp_data = {\n",
    "    2010: {\n",
    "        \"ftp_host\": \"ftp.ibge.gov.br\",\n",
    "        \"directory\": \"/Censos/Censo_Demografico_2010/Resultados_do_Universo/Agregados_por_Setores_Censitarios\",\n",
    "    },\n",
    "    2022: {\n",
    "        \"ftp_host\": \"ftp.ibge.gov.br\",\n",
    "        \"directory\": \"/Censos/Censo_Demografico_2022/Agregados_por_Setores_Censitarios/Agregados_por_Setor_csv/\",\n",
    "    },\n",
    "}\n",
    "\n",
    "states = [\n",
    "    \"AC\",\n",
    "    \"AL\",\n",
    "    \"AM\",\n",
    "    \"AP\",\n",
    "    \"BA\",\n",
    "    \"CE\",\n",
    "    \"DF\",\n",
    "    \"ES\",\n",
    "    \"GO\",\n",
    "    \"MA\",\n",
    "    \"MG\",\n",
    "    \"MS\",\n",
    "    \"MT\",\n",
    "    \"PA\",\n",
    "    \"PB\",\n",
    "    \"PE\",\n",
    "    \"PI\",\n",
    "    \"PR\",\n",
    "    \"RJ\",\n",
    "    \"RN\",\n",
    "    \"RO\",\n",
    "    \"RR\",\n",
    "    \"RS\",\n",
    "    \"SC\",\n",
    "    \"SE\",\n",
    "    \"SP\",\n",
    "    \"TO\",\n",
    "    \"SP\",\n",
    "]"
   ]
  },
  {
   "cell_type": "code",
   "execution_count": 3,
   "metadata": {},
   "outputs": [],
   "source": [
    "pattern = re.compile(\n",
    "    r\"^[A-Z]{2}_\"\n",
    ")  # padrao para filtrar arquivos que iniciam com a sigla do estado\n",
    "folder = path.join(\n",
    "    base_path, str(ano)\n",
    ")  # pasta onde os arquivos serao salvos\n",
    "\n",
    "# Criando a pasta onde os arquivos serão salvos caso não exista\n",
    "makedirs(folder, exist_ok=True)"
   ]
  },
  {
   "cell_type": "markdown",
   "metadata": {},
   "source": [
    "Funções auxiliares para evitar repeditção de código"
   ]
  },
  {
   "cell_type": "code",
   "execution_count": 4,
   "metadata": {},
   "outputs": [],
   "source": [
    "def download_ftp_files_2022(\n",
    "    ftp_host, directory=\"/\", dest_folder=folder, chunk_size=1024\n",
    "):\n",
    "    \"\"\"Lista arquivos em um diretório FTP e baixa os arquivos .zip retornando uma lista de arquivos baixados\n",
    "\n",
    "    ARGS:\n",
    "        ftp_host (str): Endereço do servidor FTP\n",
    "        directory (str, optional): Diretório a ser listado. Defaults to \"/\".\n",
    "        dest_folder (str, optional): Pasta onde os arquivos serão salvos. Defaults to folder.\n",
    "        chunk_size (int, optional): Tamanho do buffer para download. Defaults to 1024.\n",
    "    RETURNS:\n",
    "        list: Lista de arquivos baixados\n",
    "        None: Se ocorrer um erro\n",
    "    \"\"\"\n",
    "    try:\n",
    "        # Conectar ao servidor FTP\n",
    "        ftp = FTP(ftp_host)\n",
    "        ftp.login()  # Login anônimo\n",
    "\n",
    "        # Navegar para o diretório desejado\n",
    "        ftp.cwd(directory)\n",
    "\n",
    "        # Recuperar a listagem\n",
    "        files = ftp.nlst()\n",
    "        # filtra que iniciam com a sigra do estado e terminam com .zip\n",
    "        files = [f for f in files if \"cor_ou_raca\" in f and f.endswith(\".zip\")]\n",
    "        for file in tqdm(\n",
    "            files, desc=\"Baixando arquivos\", unit=\"arquivos\", total=len(files)\n",
    "        ):\n",
    "            # faz o download de cada um dos arquivos em uma pasta local\n",
    "            local_path = path.join(dest_folder, file)\n",
    "            with open(local_path, \"wb\") as f:\n",
    "                tqdm.write(f\"Baixando {file}\")\n",
    "                ftp.retrbinary(\n",
    "                    f\"RETR {file}\", lambda data: f.write(data), blocksize=chunk_size\n",
    "                )\n",
    "        ftp.quit()\n",
    "        print(f\" {len(files)} arquivos baixados com sucesso!\")\n",
    "        return files\n",
    "    except Exception as e:\n",
    "        print(f\"Erro: {e}\")\n",
    "        return None\n",
    "\n",
    "\n",
    "def download_files_ftp(ftp_host, directory=\"/\", dest_folder=folder, chunk_size=1024):\n",
    "    \"\"\"Lista arquivos em um diretório FTP e baixa os arquivos .zip retornando uma lista de arquivos baixados\n",
    "\n",
    "    ARGS:\n",
    "        ftp_host (str): Endereço do servidor FTP\n",
    "        directory (str, optional): Diretório a ser listado. Defaults to \"/\".\n",
    "        dest_folder (str, optional): Pasta onde os arquivos serão salvos. Defaults to folder.\n",
    "        chunk_size (int, optional): Tamanho do buffer para download. Defaults to 1024.\n",
    "    RETURNS:\n",
    "        list: Lista de arquivos baixados\n",
    "        None: Se ocorrer um erro\n",
    "\n",
    "    \"\"\"\n",
    "    try:\n",
    "        # Conectar ao servidor FTP\n",
    "        ftp = FTP(ftp_host)\n",
    "        ftp.login()  # Login anônimo\n",
    "\n",
    "        # Navegar para o diretório desejado\n",
    "        ftp.cwd(directory)\n",
    "\n",
    "        # Recuperar a listagem\n",
    "        files = ftp.nlst()\n",
    "        # filtra que iniciam com a sigra do estado e terminam com .zip\n",
    "        files = [f for f in files if pattern.match(f) and f.endswith(\".zip\")]\n",
    "        for file in tqdm(\n",
    "            files, desc=\"Baixando arquivos\", unit=\"arquivos\", total=len(files)\n",
    "        ):\n",
    "            # faz o download de cada um dos arquivos em uma pasta local\n",
    "            local_path = path.join(dest_folder, file)\n",
    "            with open(local_path, \"wb\") as f:\n",
    "                tqdm.write(f\"Baixando {file}\")\n",
    "                ftp.retrbinary(\n",
    "                    f\"RETR {file}\", lambda data: f.write(data), blocksize=chunk_size\n",
    "                )\n",
    "        ftp.quit()\n",
    "        print(f\" {len(files)} arquivos baixados com sucesso!\")\n",
    "        return files\n",
    "    except Exception as e:\n",
    "        print(f\"Erro: {e}\")\n",
    "        return None"
   ]
  },
  {
   "cell_type": "markdown",
   "metadata": {},
   "source": [
    "Fazendo o download dos dados de censo conforme o ano informado"
   ]
  },
  {
   "cell_type": "code",
   "execution_count": 5,
   "metadata": {},
   "outputs": [
    {
     "name": "stderr",
     "output_type": "stream",
     "text": [
      "Baixando arquivos:   0%|          | 0/28 [00:00<?, ?arquivos/s]"
     ]
    },
    {
     "name": "stdout",
     "output_type": "stream",
     "text": [
      "Baixando AC_20231030.zip\n"
     ]
    },
    {
     "name": "stderr",
     "output_type": "stream",
     "text": [
      "Baixando arquivos:   4%|▎         | 1/28 [00:00<00:13,  1.97arquivos/s]"
     ]
    },
    {
     "name": "stdout",
     "output_type": "stream",
     "text": [
      "Baixando AL_20231030.zip\n"
     ]
    },
    {
     "name": "stderr",
     "output_type": "stream",
     "text": [
      "Baixando arquivos:   7%|▋         | 2/28 [00:01<00:22,  1.14arquivos/s]"
     ]
    },
    {
     "name": "stdout",
     "output_type": "stream",
     "text": [
      "Baixando AM_20231030.zip\n"
     ]
    },
    {
     "name": "stderr",
     "output_type": "stream",
     "text": [
      "Baixando arquivos:  11%|█         | 3/28 [00:02<00:25,  1.02s/arquivos]"
     ]
    },
    {
     "name": "stdout",
     "output_type": "stream",
     "text": [
      "Baixando AP_20231030.zip\n"
     ]
    },
    {
     "name": "stderr",
     "output_type": "stream",
     "text": [
      "Baixando arquivos:  14%|█▍        | 4/28 [00:03<00:18,  1.29arquivos/s]"
     ]
    },
    {
     "name": "stdout",
     "output_type": "stream",
     "text": [
      "Baixando BA_20231030.zip\n"
     ]
    },
    {
     "name": "stderr",
     "output_type": "stream",
     "text": [
      "Baixando arquivos:  18%|█▊        | 5/28 [00:10<01:10,  3.05s/arquivos]"
     ]
    },
    {
     "name": "stdout",
     "output_type": "stream",
     "text": [
      "Baixando CE_20231030.zip\n"
     ]
    },
    {
     "name": "stderr",
     "output_type": "stream",
     "text": [
      "Baixando arquivos:  21%|██▏       | 6/28 [00:12<01:01,  2.79s/arquivos]"
     ]
    },
    {
     "name": "stdout",
     "output_type": "stream",
     "text": [
      "Baixando DF_20231030.zip\n"
     ]
    },
    {
     "name": "stderr",
     "output_type": "stream",
     "text": [
      "Baixando arquivos:  25%|██▌       | 7/28 [00:13<00:45,  2.17s/arquivos]"
     ]
    },
    {
     "name": "stdout",
     "output_type": "stream",
     "text": [
      "Baixando ES_20231030.zip\n"
     ]
    },
    {
     "name": "stderr",
     "output_type": "stream",
     "text": [
      "Baixando arquivos:  29%|██▊       | 8/28 [00:15<00:40,  2.02s/arquivos]"
     ]
    },
    {
     "name": "stdout",
     "output_type": "stream",
     "text": [
      "Baixando GO_20231030.zip\n"
     ]
    },
    {
     "name": "stderr",
     "output_type": "stream",
     "text": [
      "Baixando arquivos:  32%|███▏      | 9/28 [00:17<00:38,  2.00s/arquivos]"
     ]
    },
    {
     "name": "stdout",
     "output_type": "stream",
     "text": [
      "Baixando MA_20231030.zip\n"
     ]
    },
    {
     "name": "stderr",
     "output_type": "stream",
     "text": [
      "Baixando arquivos:  36%|███▌      | 10/28 [00:18<00:34,  1.90s/arquivos]"
     ]
    },
    {
     "name": "stdout",
     "output_type": "stream",
     "text": [
      "Baixando MG_20231030.zip\n"
     ]
    },
    {
     "name": "stderr",
     "output_type": "stream",
     "text": [
      "Baixando arquivos:  39%|███▉      | 11/28 [00:38<02:06,  7.46s/arquivos]"
     ]
    },
    {
     "name": "stdout",
     "output_type": "stream",
     "text": [
      "Baixando MS_20231030.zip\n"
     ]
    },
    {
     "name": "stderr",
     "output_type": "stream",
     "text": [
      "Baixando arquivos:  43%|████▎     | 12/28 [00:44<01:48,  6.81s/arquivos]"
     ]
    },
    {
     "name": "stdout",
     "output_type": "stream",
     "text": [
      "Baixando MT_20231030.zip\n"
     ]
    },
    {
     "name": "stderr",
     "output_type": "stream",
     "text": [
      "Baixando arquivos:  46%|████▋     | 13/28 [00:45<01:17,  5.19s/arquivos]"
     ]
    },
    {
     "name": "stdout",
     "output_type": "stream",
     "text": [
      "Baixando PA_20231030.zip\n"
     ]
    },
    {
     "name": "stderr",
     "output_type": "stream",
     "text": [
      "Baixando arquivos:  50%|█████     | 14/28 [00:47<00:57,  4.13s/arquivos]"
     ]
    },
    {
     "name": "stdout",
     "output_type": "stream",
     "text": [
      "Baixando PB_20231030.zip\n"
     ]
    },
    {
     "name": "stderr",
     "output_type": "stream",
     "text": [
      "Baixando arquivos:  54%|█████▎    | 15/28 [00:52<00:56,  4.31s/arquivos]"
     ]
    },
    {
     "name": "stdout",
     "output_type": "stream",
     "text": [
      "Baixando PE_20231030.zip\n"
     ]
    },
    {
     "name": "stderr",
     "output_type": "stream",
     "text": [
      "Baixando arquivos:  57%|█████▋    | 16/28 [00:54<00:44,  3.71s/arquivos]"
     ]
    },
    {
     "name": "stdout",
     "output_type": "stream",
     "text": [
      "Baixando PI_20231030.zip\n"
     ]
    },
    {
     "name": "stderr",
     "output_type": "stream",
     "text": [
      "Baixando arquivos:  61%|██████    | 17/28 [00:55<00:32,  2.92s/arquivos]"
     ]
    },
    {
     "name": "stdout",
     "output_type": "stream",
     "text": [
      "Baixando PR_20231030.zip\n"
     ]
    },
    {
     "name": "stderr",
     "output_type": "stream",
     "text": [
      "Baixando arquivos:  64%|██████▍   | 18/28 [00:59<00:31,  3.11s/arquivos]"
     ]
    },
    {
     "name": "stdout",
     "output_type": "stream",
     "text": [
      "Baixando RJ_20231030.zip\n"
     ]
    },
    {
     "name": "stderr",
     "output_type": "stream",
     "text": [
      "Baixando arquivos:  68%|██████▊   | 19/28 [01:12<00:54,  6.07s/arquivos]"
     ]
    },
    {
     "name": "stdout",
     "output_type": "stream",
     "text": [
      "Baixando RN_20231030.zip\n"
     ]
    },
    {
     "name": "stderr",
     "output_type": "stream",
     "text": [
      "Baixando arquivos:  71%|███████▏  | 20/28 [01:14<00:39,  4.98s/arquivos]"
     ]
    },
    {
     "name": "stdout",
     "output_type": "stream",
     "text": [
      "Baixando RO_20231030.zip\n"
     ]
    },
    {
     "name": "stderr",
     "output_type": "stream",
     "text": [
      "Baixando arquivos:  75%|███████▌  | 21/28 [01:15<00:26,  3.77s/arquivos]"
     ]
    },
    {
     "name": "stdout",
     "output_type": "stream",
     "text": [
      "Baixando RR_20231030.zip\n"
     ]
    },
    {
     "name": "stderr",
     "output_type": "stream",
     "text": [
      "Baixando arquivos:  79%|███████▊  | 22/28 [01:15<00:16,  2.77s/arquivos]"
     ]
    },
    {
     "name": "stdout",
     "output_type": "stream",
     "text": [
      "Baixando RS_20241211.zip\n"
     ]
    },
    {
     "name": "stderr",
     "output_type": "stream",
     "text": [
      "Baixando arquivos:  82%|████████▏ | 23/28 [01:21<00:18,  3.66s/arquivos]"
     ]
    },
    {
     "name": "stdout",
     "output_type": "stream",
     "text": [
      "Baixando SC_20231030.zip\n"
     ]
    },
    {
     "name": "stderr",
     "output_type": "stream",
     "text": [
      "Baixando arquivos:  86%|████████▌ | 24/28 [02:01<00:57, 14.42s/arquivos]"
     ]
    },
    {
     "name": "stdout",
     "output_type": "stream",
     "text": [
      "Baixando SE_20231030.zip\n"
     ]
    },
    {
     "name": "stderr",
     "output_type": "stream",
     "text": [
      "Baixando arquivos:  89%|████████▉ | 25/28 [02:03<00:32, 10.72s/arquivos]"
     ]
    },
    {
     "name": "stdout",
     "output_type": "stream",
     "text": [
      "Baixando SP_Capital_20231030.zip\n"
     ]
    },
    {
     "name": "stderr",
     "output_type": "stream",
     "text": [
      "Baixando arquivos:  93%|█████████▎| 26/28 [02:13<00:21, 10.73s/arquivos]"
     ]
    },
    {
     "name": "stdout",
     "output_type": "stream",
     "text": [
      "Baixando SP_Exceto_Capital_20231030.zip\n"
     ]
    },
    {
     "name": "stderr",
     "output_type": "stream",
     "text": [
      "Baixando arquivos:  96%|█████████▋| 27/28 [02:46<00:17, 17.38s/arquivos]"
     ]
    },
    {
     "name": "stdout",
     "output_type": "stream",
     "text": [
      "Baixando TO_20231030.zip\n"
     ]
    },
    {
     "name": "stderr",
     "output_type": "stream",
     "text": [
      "Baixando arquivos: 100%|██████████| 28/28 [02:47<00:00,  5.99s/arquivos]"
     ]
    },
    {
     "name": "stdout",
     "output_type": "stream",
     "text": [
      " 28 arquivos baixados com sucesso!\n"
     ]
    },
    {
     "name": "stderr",
     "output_type": "stream",
     "text": [
      "\n"
     ]
    }
   ],
   "source": [
    "# Endereço do servidor FTP e diretório\n",
    "ftp_host = ftp_data[ano][\"ftp_host\"]\n",
    "directory = ftp_data[ano][\"directory\"]\n",
    "\n",
    "# Listar arquivos no diretório especificado\n",
    "files_to_download = (\n",
    "    download_ftp_files_2022(ftp_host, directory)\n",
    "    if ano == 2022\n",
    "    else download_files_ftp(ftp_host, directory)\n",
    ")"
   ]
  },
  {
   "cell_type": "markdown",
   "metadata": {},
   "source": [
    "# Extraindo os arquivos do arquivo zip baixado.\n",
    "\n",
    "O censo do ano de 2010 é separado por estado, então teremos um arquivo csv para cada, o aquivo que precisamos utilizar para esse ano é o possui `Pessoa03` no nome, já o ano de 2022 possui apenas um arquivo com todos os dados."
   ]
  },
  {
   "cell_type": "code",
   "execution_count": 6,
   "metadata": {},
   "outputs": [
    {
     "name": "stderr",
     "output_type": "stream",
     "text": [
      "Descompactando arquivos:  11%|█         | 3/28 [00:00<00:00, 27.69arquivos/s]"
     ]
    },
    {
     "name": "stdout",
     "output_type": "stream",
     "text": [
      "Unzipping AC_20231030.zip\n",
      "Unzipping AL_20231030.zip\n",
      "Unzipping AM_20231030.zip\n",
      "Unzipping AP_20231030.zip\n",
      "Unzipping BA_20231030.zip\n"
     ]
    },
    {
     "name": "stderr",
     "output_type": "stream",
     "text": [
      "Descompactando arquivos:  32%|███▏      | 9/28 [00:00<00:00, 19.74arquivos/s]"
     ]
    },
    {
     "name": "stdout",
     "output_type": "stream",
     "text": [
      "Unzipping CE_20231030.zip\n",
      "Unzipping DF_20231030.zip\n",
      "Unzipping ES_20231030.zip\n",
      "Unzipping GO_20231030.zip\n",
      "Unzipping MA_20231030.zip\n"
     ]
    },
    {
     "name": "stderr",
     "output_type": "stream",
     "text": [
      "Descompactando arquivos:  32%|███▏      | 9/28 [00:00<00:00, 19.74arquivos/s]"
     ]
    },
    {
     "name": "stdout",
     "output_type": "stream",
     "text": [
      "Unzipping MG_20231030.zip\n",
      "Unzipping MS_20231030.zip\n"
     ]
    },
    {
     "name": "stderr",
     "output_type": "stream",
     "text": [
      "Descompactando arquivos:  50%|█████     | 14/28 [00:00<00:00, 15.88arquivos/s]"
     ]
    },
    {
     "name": "stdout",
     "output_type": "stream",
     "text": [
      "Unzipping MT_20231030.zip\n",
      "Unzipping PA_20231030.zip\n",
      "Unzipping PB_20231030.zip\n",
      "Unzipping PE_20231030.zip\n"
     ]
    },
    {
     "name": "stderr",
     "output_type": "stream",
     "text": [
      "Descompactando arquivos:  64%|██████▍   | 18/28 [00:01<00:00, 15.35arquivos/s]"
     ]
    },
    {
     "name": "stdout",
     "output_type": "stream",
     "text": [
      "Unzipping PI_20231030.zip\n",
      "Unzipping PR_20231030.zip\n",
      "Unzipping RJ_20231030.zip\n"
     ]
    },
    {
     "name": "stderr",
     "output_type": "stream",
     "text": [
      "Descompactando arquivos:  79%|███████▊  | 22/28 [00:01<00:00, 14.11arquivos/s]"
     ]
    },
    {
     "name": "stdout",
     "output_type": "stream",
     "text": [
      "Unzipping RN_20231030.zip\n",
      "Unzipping RO_20231030.zip\n",
      "Unzipping RR_20231030.zip\n",
      "Unzipping RS_20241211.zip\n"
     ]
    },
    {
     "name": "stderr",
     "output_type": "stream",
     "text": [
      "Descompactando arquivos: 100%|██████████| 28/28 [00:01<00:00, 16.46arquivos/s]"
     ]
    },
    {
     "name": "stdout",
     "output_type": "stream",
     "text": [
      "Unzipping SC_20231030.zip\n",
      "Unzipping SE_20231030.zip\n",
      "Unzipping SP_Capital_20231030.zip\n",
      "Unzipping SP_Exceto_Capital_20231030.zip\n",
      "Unzipping TO_20231030.zip\n",
      "Arquivos descompactados com sucesso!\n"
     ]
    },
    {
     "name": "stderr",
     "output_type": "stream",
     "text": [
      "\n"
     ]
    }
   ],
   "source": [
    "# Unziping files\n",
    "csv_dir = f\"{folder}/CSVS\"\n",
    "makedirs(csv_dir, exist_ok=True)\n",
    "\n",
    "if ano == 2010:\n",
    "    for file in tqdm(\n",
    "        files_to_download,\n",
    "        desc=\"Descompactando arquivos\",\n",
    "        unit=\"arquivos\",\n",
    "        total=len(files_to_download),\n",
    "    ):\n",
    "        tqdm.write(f\"Unzipping {file}\")\n",
    "        filename = path.join(folder, file)\n",
    "        with ZipFile(filename, \"r\") as zip_ref:\n",
    "            file_to_extract = zip_ref.infolist()\n",
    "            file_to_extract = filter(\n",
    "                lambda x: \"Pessoa03\" in x.filename and x.filename.endswith(\".csv\"),\n",
    "                file_to_extract,\n",
    "            )\n",
    "            for member in file_to_extract:\n",
    "                csv_filename = path.basename(member.filename)\n",
    "                with zip_ref.open(member) as source, open(\n",
    "                    path.join(csv_dir, csv_filename), \"wb\"\n",
    "                ) as target:\n",
    "                    target.write(source.read())\n",
    "else:\n",
    "    for file in tqdm(\n",
    "        files_to_download,\n",
    "        desc=\"Descompactando arquivos\",\n",
    "        unit=\"arquivos\",\n",
    "        total=len(files_to_download),\n",
    "    ):\n",
    "        tqdm.write(f\"Unzipping {file}\")\n",
    "        filename = path.join(folder, file)\n",
    "        # Estrai o arquivo csv em csv_dir\n",
    "        with ZipFile(filename, \"r\") as zip_ref:\n",
    "            zip_ref.extractall(csv_dir)\n",
    "\n",
    "print(\"Arquivos descompactados com sucesso!\")"
   ]
  }
 ],
 "metadata": {
  "kernelspec": {
   "display_name": ".venv",
   "language": "python",
   "name": "python3"
  },
  "language_info": {
   "codemirror_mode": {
    "name": "ipython",
    "version": 3
   },
   "file_extension": ".py",
   "mimetype": "text/x-python",
   "name": "python",
   "nbconvert_exporter": "python",
   "pygments_lexer": "ipython3",
   "version": "3.11.2"
  }
 },
 "nbformat": 4,
 "nbformat_minor": 2
}
