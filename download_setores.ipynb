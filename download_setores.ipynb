{
 "cells": [
  {
   "cell_type": "markdown",
   "metadata": {},
   "source": [
    "# Download dos dados de setores sensitários do IBGE\n",
    "\n",
    "Os dados de setores sensitários são baixados diretamente do ftp do IBGE."
   ]
  },
  {
   "cell_type": "code",
   "execution_count": 1,
   "metadata": {},
   "outputs": [],
   "source": [
    "# Importando Bibliotecas necessárias\n",
    "from os import path, sep, makedirs\n",
    "from ftplib import FTP\n",
    "import re\n",
    "from tqdm import tqdm\n",
    "import pandas as pd\n",
    "import geopandas as gpd\n"
   ]
  },
  {
   "cell_type": "code",
   "execution_count": 2,
   "metadata": {},
   "outputs": [],
   "source": [
    "ano = 2010\n",
    "base_path = \"./SETORES_CENSITARIOS\"\n",
    "\n",
    "ftp = {\n",
    "    2010: {\n",
    "        \"ftp_host\": \"geoftp.ibge.gov.br\",\n",
    "        \"directory\": \"organizacao_do_territorio/malhas_territoriais/malhas_de_setores_censitarios__divisoes_intramunicipais/censo_2010/setores_censitarios_shp\",\n",
    "    },\n",
    "    2022: {\n",
    "        \"ftp_host\": \"ftp.ibge.gov.br\",\n",
    "        \"directory\": \"/Censos/Censo_Demografico_2022/Agregados_por_Setores_Censitarios/malha_com_atributos/setores/gpkg/UF\",\n",
    "    },\n",
    "}\n",
    "\n",
    "states = [\n",
    "    \"AC\",\n",
    "    \"AL\",\n",
    "    \"AM\",\n",
    "    \"AP\",\n",
    "    \"BA\",\n",
    "    \"CE\",\n",
    "    \"DF\",\n",
    "    \"ES\",\n",
    "    \"GO\",\n",
    "    \"MA\",\n",
    "    \"MG\",\n",
    "    \"MS\",\n",
    "    \"MT\",\n",
    "    \"PA\",\n",
    "    \"PB\",\n",
    "    \"PE\",\n",
    "    \"PI\",\n",
    "    \"PR\",\n",
    "    \"RJ\",\n",
    "    \"RN\",\n",
    "    \"RO\",\n",
    "    \"RR\",\n",
    "    \"RS\",\n",
    "    \"SC\",\n",
    "    \"SE\",\n",
    "    \"SP\",\n",
    "    \"TO\",\n",
    "    \"SP\",\n",
    "]"
   ]
  },
  {
   "cell_type": "markdown",
   "metadata": {},
   "source": [
    "# Baixando os dados de setores censitários\n",
    "\n",
    "Agora vamos baixar os arquivos georreferenciados dos setores sensitários, para utilizar menos memória RAM durante o processo de geração de pontos, vamos baixar cada estado separadamente."
   ]
  },
  {
   "cell_type": "code",
   "execution_count": 3,
   "metadata": {},
   "outputs": [
    {
     "name": "stderr",
     "output_type": "stream",
     "text": [
      "Baixando arquivos:   0%|          | 0/28 [00:00<?, ?arquivos/s]"
     ]
    },
    {
     "name": "stdout",
     "output_type": "stream",
     "text": [
      "ac_setores_censitarios.zip\n"
     ]
    },
    {
     "name": "stderr",
     "output_type": "stream",
     "text": [
      "Baixando arquivos:   7%|▋         | 2/28 [00:00<00:06,  3.76arquivos/s]"
     ]
    },
    {
     "name": "stdout",
     "output_type": "stream",
     "text": [
      "al_setores_censitarios.zip\n"
     ]
    },
    {
     "name": "stderr",
     "output_type": "stream",
     "text": [
      "Baixando arquivos:  11%|█         | 3/28 [00:01<00:13,  1.88arquivos/s]"
     ]
    },
    {
     "name": "stdout",
     "output_type": "stream",
     "text": [
      "am_setores_censitarios.zip\n"
     ]
    },
    {
     "name": "stderr",
     "output_type": "stream",
     "text": [
      "Baixando arquivos:  14%|█▍        | 4/28 [00:02<00:20,  1.16arquivos/s]"
     ]
    },
    {
     "name": "stdout",
     "output_type": "stream",
     "text": [
      "ap_setores_censitarios.zip\n"
     ]
    },
    {
     "name": "stderr",
     "output_type": "stream",
     "text": [
      "Baixando arquivos:  18%|█▊        | 5/28 [00:03<00:15,  1.46arquivos/s]"
     ]
    },
    {
     "name": "stdout",
     "output_type": "stream",
     "text": [
      "ba_setores_censitarios.zip\n"
     ]
    },
    {
     "name": "stderr",
     "output_type": "stream",
     "text": [
      "Baixando arquivos:  21%|██▏       | 6/28 [00:04<00:20,  1.08arquivos/s]"
     ]
    },
    {
     "name": "stdout",
     "output_type": "stream",
     "text": [
      "ce_setores_censitarios.zip\n"
     ]
    },
    {
     "name": "stderr",
     "output_type": "stream",
     "text": [
      "Baixando arquivos:  25%|██▌       | 7/28 [00:05<00:17,  1.20arquivos/s]"
     ]
    },
    {
     "name": "stdout",
     "output_type": "stream",
     "text": [
      "df_setores_censitarios.zip\n"
     ]
    },
    {
     "name": "stderr",
     "output_type": "stream",
     "text": [
      "Baixando arquivos:  29%|██▊       | 8/28 [00:05<00:14,  1.41arquivos/s]"
     ]
    },
    {
     "name": "stdout",
     "output_type": "stream",
     "text": [
      "es_setores_censitarios.zip\n"
     ]
    },
    {
     "name": "stderr",
     "output_type": "stream",
     "text": [
      "Baixando arquivos:  32%|███▏      | 9/28 [00:06<00:12,  1.47arquivos/s]"
     ]
    },
    {
     "name": "stdout",
     "output_type": "stream",
     "text": [
      "go_setores _censitarios.zip\n"
     ]
    },
    {
     "name": "stderr",
     "output_type": "stream",
     "text": [
      "Baixando arquivos:  36%|███▌      | 10/28 [00:07<00:12,  1.40arquivos/s]"
     ]
    },
    {
     "name": "stdout",
     "output_type": "stream",
     "text": [
      "ma_setores_censitarios.zip\n"
     ]
    },
    {
     "name": "stderr",
     "output_type": "stream",
     "text": [
      "Baixando arquivos:  39%|███▉      | 11/28 [00:07<00:11,  1.46arquivos/s]"
     ]
    },
    {
     "name": "stdout",
     "output_type": "stream",
     "text": [
      "mg_setores_censitarios.zip\n"
     ]
    },
    {
     "name": "stderr",
     "output_type": "stream",
     "text": [
      "Baixando arquivos:  43%|████▎     | 12/28 [00:10<00:19,  1.21s/arquivos]"
     ]
    },
    {
     "name": "stdout",
     "output_type": "stream",
     "text": [
      "ms_setores_censitarios.zip\n"
     ]
    },
    {
     "name": "stderr",
     "output_type": "stream",
     "text": [
      "Baixando arquivos:  46%|████▋     | 13/28 [00:10<00:14,  1.01arquivos/s]"
     ]
    },
    {
     "name": "stdout",
     "output_type": "stream",
     "text": [
      "mt_setores_censitarios.zip\n"
     ]
    },
    {
     "name": "stderr",
     "output_type": "stream",
     "text": [
      "Baixando arquivos:  50%|█████     | 14/28 [00:11<00:12,  1.09arquivos/s]"
     ]
    },
    {
     "name": "stdout",
     "output_type": "stream",
     "text": [
      "pa_setores_censitarios.zip\n"
     ]
    },
    {
     "name": "stderr",
     "output_type": "stream",
     "text": [
      "Baixando arquivos:  54%|█████▎    | 15/28 [00:12<00:10,  1.20arquivos/s]"
     ]
    },
    {
     "name": "stdout",
     "output_type": "stream",
     "text": [
      "pb_setores_censitarios.zip\n"
     ]
    },
    {
     "name": "stderr",
     "output_type": "stream",
     "text": [
      "Baixando arquivos:  57%|█████▋    | 16/28 [00:12<00:08,  1.41arquivos/s]"
     ]
    },
    {
     "name": "stdout",
     "output_type": "stream",
     "text": [
      "pe_setores_censitarios.zip\n"
     ]
    },
    {
     "name": "stderr",
     "output_type": "stream",
     "text": [
      "Baixando arquivos:  61%|██████    | 17/28 [00:13<00:07,  1.50arquivos/s]"
     ]
    },
    {
     "name": "stdout",
     "output_type": "stream",
     "text": [
      "pi_setores_censitarios.zip\n"
     ]
    },
    {
     "name": "stderr",
     "output_type": "stream",
     "text": [
      "Baixando arquivos:  64%|██████▍   | 18/28 [00:13<00:06,  1.60arquivos/s]"
     ]
    },
    {
     "name": "stdout",
     "output_type": "stream",
     "text": [
      "pr_setores_censitarios.zip\n"
     ]
    },
    {
     "name": "stderr",
     "output_type": "stream",
     "text": [
      "Baixando arquivos:  68%|██████▊   | 19/28 [00:14<00:06,  1.33arquivos/s]"
     ]
    },
    {
     "name": "stdout",
     "output_type": "stream",
     "text": [
      "rj_setores_censitarios.zip\n"
     ]
    },
    {
     "name": "stderr",
     "output_type": "stream",
     "text": [
      "Baixando arquivos:  71%|███████▏  | 20/28 [00:17<00:09,  1.23s/arquivos]"
     ]
    },
    {
     "name": "stdout",
     "output_type": "stream",
     "text": [
      "rn_setores_censitarios.zip\n"
     ]
    },
    {
     "name": "stderr",
     "output_type": "stream",
     "text": [
      "Baixando arquivos:  75%|███████▌  | 21/28 [00:19<00:11,  1.65s/arquivos]"
     ]
    },
    {
     "name": "stdout",
     "output_type": "stream",
     "text": [
      "ro_setores_censitarios.zip\n"
     ]
    },
    {
     "name": "stderr",
     "output_type": "stream",
     "text": [
      "Baixando arquivos:  79%|███████▊  | 22/28 [00:20<00:08,  1.46s/arquivos]"
     ]
    },
    {
     "name": "stdout",
     "output_type": "stream",
     "text": [
      "rr_setores_censitarios.zip\n"
     ]
    },
    {
     "name": "stderr",
     "output_type": "stream",
     "text": [
      "Baixando arquivos:  82%|████████▏ | 23/28 [00:21<00:06,  1.22s/arquivos]"
     ]
    },
    {
     "name": "stdout",
     "output_type": "stream",
     "text": [
      "rs_setores_censitarios.zip\n"
     ]
    },
    {
     "name": "stderr",
     "output_type": "stream",
     "text": [
      "Baixando arquivos:  86%|████████▌ | 24/28 [00:22<00:05,  1.35s/arquivos]"
     ]
    },
    {
     "name": "stdout",
     "output_type": "stream",
     "text": [
      "sc_setores_censitarios.zip\n"
     ]
    },
    {
     "name": "stderr",
     "output_type": "stream",
     "text": [
      "Baixando arquivos:  89%|████████▉ | 25/28 [00:38<00:16,  5.53s/arquivos]"
     ]
    },
    {
     "name": "stdout",
     "output_type": "stream",
     "text": [
      "se_setores_censitarios.zip\n"
     ]
    },
    {
     "name": "stderr",
     "output_type": "stream",
     "text": [
      "Baixando arquivos:  93%|█████████▎| 26/28 [00:39<00:08,  4.19s/arquivos]"
     ]
    },
    {
     "name": "stdout",
     "output_type": "stream",
     "text": [
      "sp_setores_censitarios.zip\n"
     ]
    },
    {
     "name": "stderr",
     "output_type": "stream",
     "text": [
      "Baixando arquivos:  96%|█████████▋| 27/28 [00:42<00:03,  3.83s/arquivos]"
     ]
    },
    {
     "name": "stdout",
     "output_type": "stream",
     "text": [
      "to_setores_censitarios.zip\n"
     ]
    },
    {
     "name": "stderr",
     "output_type": "stream",
     "text": [
      "Baixando arquivos: 100%|██████████| 28/28 [00:42<00:00,  1.53s/arquivos]"
     ]
    },
    {
     "name": "stdout",
     "output_type": "stream",
     "text": [
      " 27 arquivos baixados com sucesso!\n"
     ]
    },
    {
     "name": "stderr",
     "output_type": "stream",
     "text": [
      "\n"
     ]
    }
   ],
   "source": [
    "pattern = re.compile(\n",
    "    r\"^[A-Z]{2}$\", re.IGNORECASE\n",
    ")  # padrao para filtrar arquivos que iniciam com a sigla do estado\n",
    "folder = path.join(base_path, str(ano))  # pasta onde os arquivos serao salvos\n",
    "if ano == 2022:\n",
    "    folder = path.join(folder, \"gpkg\")\n",
    "\n",
    "# Criar pasta para salvar os arquivos caso não exista\n",
    "makedirs(folder, exist_ok=True)\n",
    "\n",
    "\n",
    "def download_ftp_files(ftp_host, directory=\"/\", dest_folder=folder, chunk_size=1024):\n",
    "    \"\"\"Lista arquivos em um diretório FTP e baixa os arquivos .zip retornando uma lista de arquivos baixados\n",
    "\n",
    "    ARGS:\n",
    "        ftp_host (str): Endereço do servidor FTP\n",
    "        directory (str, optional): Diretório a ser listado. Defaults to \"/\".\n",
    "        dest_folder (str, optional): Pasta onde os arquivos serão salvos. Defaults to folder.\n",
    "        chunk_size (int, optional): Tamanho do buffer para download. Defaults to 1024.\n",
    "    RETURNS:\n",
    "        list: Lista de arquivos baixados\n",
    "        None: Se ocorrer um erro\n",
    "\n",
    "    \"\"\"\n",
    "    try:\n",
    "        # Conectar ao servidor FTP\n",
    "        ftp = FTP(ftp_host)\n",
    "        ftp.login()  # Login anônimo\n",
    "\n",
    "        # Navegar para o diretório desejado\n",
    "        ftp.cwd(directory)\n",
    "\n",
    "        items = []\n",
    "        # listando todas as pastas no diretório\n",
    "        ftp.retrlines(\"LIST\", items.append)\n",
    "        files = []\n",
    "        count = 0\n",
    "        for item in tqdm(items, desc=\"Baixando arquivos\", unit=\"arquivos\", leave=True):\n",
    "            count += 1\n",
    "            parts = item.split()\n",
    "            item_name = parts[-1]\n",
    "            # Verifica se o item é um diretório e se o nome for a sigla do estado\n",
    "            if item.startswith(\"d\") and re.match(pattern, item_name):\n",
    "                # entra no diretório do estado\n",
    "                ftp.cwd(item_name)\n",
    "                # listar arquivos no diretório\n",
    "                state_files = ftp.nlst()\n",
    "                # Filtrar arquivos que contenham \"setores\" no nome\n",
    "                state_files = [f for f in state_files if \"setores\" in f]\n",
    "                # Baixa os arquivos localmente\n",
    "                for file in state_files:\n",
    "                    tqdm.write(file)\n",
    "                    local_path = path.join(dest_folder, file)\n",
    "                    with open(local_path, \"wb\") as f:\n",
    "                        ftp.retrbinary(\n",
    "                            f\"RETR {file}\",\n",
    "                            lambda data: f.write(data),\n",
    "                            blocksize=chunk_size,\n",
    "                        )\n",
    "                    files.append(local_path)\n",
    "                # sair do diretório do estado para diretório principal\n",
    "                ftp.cwd(\"..\")\n",
    "        ftp.quit()\n",
    "        print(f\" {len(files)} arquivos baixados com sucesso!\")\n",
    "        return files\n",
    "    except Exception as e:\n",
    "        print(f\"Erro: {e}\")\n",
    "        return None\n",
    "\n",
    "\n",
    "# Endereço do servidor FTP e diretório\n",
    "ftp_host = ftp[ano][\"ftp_host\"]\n",
    "directory = ftp[ano][\"directory\"]\n",
    "\n",
    "# Baixa os arquivos do FTP\n",
    "files_to_download = download_ftp_files(ftp_host, directory)"
   ]
  },
  {
   "cell_type": "markdown",
   "metadata": {},
   "source": [
    "# Gerando o arquivo geopackage com os setores sensitários\n",
    "\n",
    "Caso o ano seja 2010, o arquivo geopackage é gerado a partir dos arquivos shapefiles baixados. \n",
    "Caso o ano seja 2020, o arquivo geopackage é baixado diretamente do ftp do IBGE e não necessita conversão e nem descompactação do mesmo."
   ]
  },
  {
   "cell_type": "code",
   "execution_count": 5,
   "metadata": {},
   "outputs": [
    {
     "name": "stderr",
     "output_type": "stream",
     "text": [
      "Descompactando arquivos:   0%|          | 0/27 [00:00<?, ?arquivo/s]"
     ]
    },
    {
     "name": "stdout",
     "output_type": "stream",
     "text": [
      "ac_setores_censitarios.zip\n"
     ]
    },
    {
     "name": "stderr",
     "output_type": "stream",
     "text": [
      "Descompactando arquivos:   4%|▎         | 1/27 [00:00<00:09,  2.76arquivo/s]"
     ]
    },
    {
     "name": "stdout",
     "output_type": "stream",
     "text": [
      "al_setores_censitarios.zip\n"
     ]
    },
    {
     "name": "stderr",
     "output_type": "stream",
     "text": [
      "Descompactando arquivos:   7%|▋         | 2/27 [00:00<00:10,  2.35arquivo/s]"
     ]
    },
    {
     "name": "stdout",
     "output_type": "stream",
     "text": [
      "am_setores_censitarios.zip\n"
     ]
    },
    {
     "name": "stderr",
     "output_type": "stream",
     "text": [
      "Descompactando arquivos:  15%|█▍        | 4/27 [00:01<00:10,  2.14arquivo/s]"
     ]
    },
    {
     "name": "stdout",
     "output_type": "stream",
     "text": [
      "ap_setores_censitarios.zip\n",
      "ba_setores_censitarios.zip\n"
     ]
    },
    {
     "name": "stderr",
     "output_type": "stream",
     "text": [
      "Descompactando arquivos:  19%|█▊        | 5/27 [00:05<00:33,  1.54s/arquivo]"
     ]
    },
    {
     "name": "stdout",
     "output_type": "stream",
     "text": [
      "ce_setores_censitarios.zip\n"
     ]
    },
    {
     "name": "stderr",
     "output_type": "stream",
     "text": [
      "Descompactando arquivos:  22%|██▏       | 6/27 [00:06<00:31,  1.52s/arquivo]"
     ]
    },
    {
     "name": "stdout",
     "output_type": "stream",
     "text": [
      "df_setores_censitarios.zip\n"
     ]
    },
    {
     "name": "stderr",
     "output_type": "stream",
     "text": [
      "Descompactando arquivos:  26%|██▌       | 7/27 [00:07<00:23,  1.20s/arquivo]"
     ]
    },
    {
     "name": "stdout",
     "output_type": "stream",
     "text": [
      "es_setores_censitarios.zip\n"
     ]
    },
    {
     "name": "stderr",
     "output_type": "stream",
     "text": [
      "Descompactando arquivos:  30%|██▉       | 8/27 [00:08<00:21,  1.14s/arquivo]"
     ]
    },
    {
     "name": "stdout",
     "output_type": "stream",
     "text": [
      "go_setores _censitarios.zip\n"
     ]
    },
    {
     "name": "stderr",
     "output_type": "stream",
     "text": [
      "Descompactando arquivos:  33%|███▎      | 9/27 [00:09<00:21,  1.21s/arquivo]"
     ]
    },
    {
     "name": "stdout",
     "output_type": "stream",
     "text": [
      "ma_setores_censitarios.zip\n"
     ]
    },
    {
     "name": "stderr",
     "output_type": "stream",
     "text": [
      "Descompactando arquivos:  37%|███▋      | 10/27 [00:11<00:20,  1.23s/arquivo]"
     ]
    },
    {
     "name": "stdout",
     "output_type": "stream",
     "text": [
      "mg_setores_censitarios.zip\n"
     ]
    },
    {
     "name": "stderr",
     "output_type": "stream",
     "text": [
      "Descompactando arquivos:  41%|████      | 11/27 [00:17<00:45,  2.83s/arquivo]"
     ]
    },
    {
     "name": "stdout",
     "output_type": "stream",
     "text": [
      "ms_setores_censitarios.zip\n"
     ]
    },
    {
     "name": "stderr",
     "output_type": "stream",
     "text": [
      "Descompactando arquivos:  44%|████▍     | 12/27 [00:18<00:33,  2.21s/arquivo]"
     ]
    },
    {
     "name": "stdout",
     "output_type": "stream",
     "text": [
      "mt_setores_censitarios.zip\n"
     ]
    },
    {
     "name": "stderr",
     "output_type": "stream",
     "text": [
      "Descompactando arquivos:  48%|████▊     | 13/27 [00:19<00:25,  1.84s/arquivo]"
     ]
    },
    {
     "name": "stdout",
     "output_type": "stream",
     "text": [
      "pa_setores_censitarios.zip\n"
     ]
    },
    {
     "name": "stderr",
     "output_type": "stream",
     "text": [
      "Descompactando arquivos:  52%|█████▏    | 14/27 [00:20<00:21,  1.62s/arquivo]"
     ]
    },
    {
     "name": "stdout",
     "output_type": "stream",
     "text": [
      "pb_setores_censitarios.zip\n"
     ]
    },
    {
     "name": "stderr",
     "output_type": "stream",
     "text": [
      "Descompactando arquivos:  56%|█████▌    | 15/27 [00:21<00:16,  1.33s/arquivo]"
     ]
    },
    {
     "name": "stdout",
     "output_type": "stream",
     "text": [
      "pe_setores_censitarios.zip\n"
     ]
    },
    {
     "name": "stderr",
     "output_type": "stream",
     "text": [
      "Descompactando arquivos:  59%|█████▉    | 16/27 [00:22<00:15,  1.39s/arquivo]"
     ]
    },
    {
     "name": "stdout",
     "output_type": "stream",
     "text": [
      "pi_setores_censitarios.zip\n"
     ]
    },
    {
     "name": "stderr",
     "output_type": "stream",
     "text": [
      "Descompactando arquivos:  63%|██████▎   | 17/27 [00:23<00:12,  1.28s/arquivo]"
     ]
    },
    {
     "name": "stdout",
     "output_type": "stream",
     "text": [
      "pr_setores_censitarios.zip\n"
     ]
    },
    {
     "name": "stderr",
     "output_type": "stream",
     "text": [
      "Descompactando arquivos:  67%|██████▋   | 18/27 [00:26<00:14,  1.63s/arquivo]"
     ]
    },
    {
     "name": "stdout",
     "output_type": "stream",
     "text": [
      "rj_setores_censitarios.zip\n"
     ]
    },
    {
     "name": "stderr",
     "output_type": "stream",
     "text": [
      "Descompactando arquivos:  70%|███████   | 19/27 [00:29<00:16,  2.04s/arquivo]"
     ]
    },
    {
     "name": "stdout",
     "output_type": "stream",
     "text": [
      "rn_setores_censitarios.zip\n"
     ]
    },
    {
     "name": "stderr",
     "output_type": "stream",
     "text": [
      "Descompactando arquivos:  74%|███████▍  | 20/27 [00:29<00:11,  1.63s/arquivo]"
     ]
    },
    {
     "name": "stdout",
     "output_type": "stream",
     "text": [
      "ro_setores_censitarios.zip\n"
     ]
    },
    {
     "name": "stderr",
     "output_type": "stream",
     "text": [
      "Descompactando arquivos:  81%|████████▏ | 22/27 [00:30<00:04,  1.08arquivo/s]"
     ]
    },
    {
     "name": "stdout",
     "output_type": "stream",
     "text": [
      "rr_setores_censitarios.zip\n"
     ]
    },
    {
     "name": "stderr",
     "output_type": "stream",
     "text": [
      "Descompactando arquivos:  81%|████████▏ | 22/27 [00:30<00:04,  1.08arquivo/s]"
     ]
    },
    {
     "name": "stdout",
     "output_type": "stream",
     "text": [
      "rs_setores_censitarios.zip\n"
     ]
    },
    {
     "name": "stderr",
     "output_type": "stream",
     "text": [
      "Descompactando arquivos:  85%|████████▌ | 23/27 [00:32<00:05,  1.40s/arquivo]"
     ]
    },
    {
     "name": "stdout",
     "output_type": "stream",
     "text": [
      "sc_setores_censitarios.zip\n"
     ]
    },
    {
     "name": "stderr",
     "output_type": "stream",
     "text": [
      "Descompactando arquivos:  89%|████████▉ | 24/27 [00:34<00:04,  1.53s/arquivo]"
     ]
    },
    {
     "name": "stdout",
     "output_type": "stream",
     "text": [
      "se_setores_censitarios.zip\n"
     ]
    },
    {
     "name": "stderr",
     "output_type": "stream",
     "text": [
      "Descompactando arquivos:  93%|█████████▎| 25/27 [00:35<00:02,  1.25s/arquivo]"
     ]
    },
    {
     "name": "stdout",
     "output_type": "stream",
     "text": [
      "sp_setores_censitarios.zip\n"
     ]
    },
    {
     "name": "stderr",
     "output_type": "stream",
     "text": [
      "Descompactando arquivos:  96%|█████████▋| 26/27 [00:47<00:04,  4.43s/arquivo]"
     ]
    },
    {
     "name": "stdout",
     "output_type": "stream",
     "text": [
      "to_setores_censitarios.zip\n"
     ]
    },
    {
     "name": "stderr",
     "output_type": "stream",
     "text": [
      "Descompactando arquivos: 100%|██████████| 27/27 [00:47<00:00,  1.77s/arquivo]"
     ]
    },
    {
     "name": "stdout",
     "output_type": "stream",
     "text": [
      "Arquivos descompactados com sucesso!\n"
     ]
    },
    {
     "name": "stderr",
     "output_type": "stream",
     "text": [
      "\n"
     ]
    }
   ],
   "source": [
    "# Gera geopacakge com os arquivos baixados\n",
    "if ano == 2010:\n",
    "    for file in tqdm(\n",
    "        files_to_download, desc=\"Descompactando arquivos\", unit=\"arquivo\", leave=True\n",
    "    ):\n",
    "        zip_file = f\"zip://{file}\"\n",
    "        filename = file.split(sep)[-1]\n",
    "        tqdm.write(filename)\n",
    "        otp_file = filename.replace(\".zip\", \".gpkg\").replace(\" \", \"\")\n",
    "        makedirs(path.join(folder, \"gpkg\"), exist_ok=True)\n",
    "        otp_file = path.join(folder, \"gpkg\", otp_file)\n",
    "        df = gpd.read_file(zip_file)\n",
    "        df.to_file(otp_file, driver=\"GPKG\")\n",
    "\n",
    "        # abre o arquivo zip com geopandas\n",
    "\n",
    "    print(\"Arquivos descompactados com sucesso!\")\n",
    "else:\n",
    "    print(f\"O ano de {ano} não precisa descompactar\")"
   ]
  }
 ],
 "metadata": {
  "kernelspec": {
   "display_name": ".venv",
   "language": "python",
   "name": "python3"
  },
  "language_info": {
   "codemirror_mode": {
    "name": "ipython",
    "version": 3
   },
   "file_extension": ".py",
   "mimetype": "text/x-python",
   "name": "python",
   "nbconvert_exporter": "python",
   "pygments_lexer": "ipython3",
   "version": "3.11.2"
  }
 },
 "nbformat": 4,
 "nbformat_minor": 2
}
